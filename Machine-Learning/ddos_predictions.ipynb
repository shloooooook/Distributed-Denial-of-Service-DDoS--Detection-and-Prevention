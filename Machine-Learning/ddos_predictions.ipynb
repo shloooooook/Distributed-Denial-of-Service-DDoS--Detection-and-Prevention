{
  "cells": [
    {
      "cell_type": "markdown",
      "metadata": {
        "id": "61UXOrPEDsNq"
      },
      "source": [
        "# **TRADITIONAL MACHINE LEARNING APPROACH**"
      ]
    },
    {
      "cell_type": "code",
      "execution_count": 4,
      "metadata": {
        "id": "WalZU6TqK8wV"
      },
      "outputs": [],
      "source": [
        "import pandas as pd\n",
        "import numpy as np\n",
        "import matplotlib.pyplot as plt\n",
        "import seaborn as sns\n",
        "from sklearn.model_selection import train_test_split\n",
        "from sklearn.preprocessing import StandardScaler, LabelEncoder\n",
        "from sklearn.ensemble import RandomForestClassifier\n",
        "from sklearn.metrics import accuracy_score, precision_score, recall_score, f1_score, confusion_matrix, classification_report\n",
        "from sklearn.metrics import precision_recall_curve\n",
        "# To ignore any warnings\n",
        "import warnings\n",
        "warnings.filterwarnings('ignore')\n",
        "from imblearn.under_sampling import RandomUnderSampler"
      ]
    },
    {
      "cell_type": "code",
      "execution_count": 5,
      "metadata": {
        "colab": {
          "base_uri": "https://localhost:8080/"
        },
        "id": "gG7g-jGxLxh_",
        "outputId": "dd52a979-b6b7-4fd9-f87a-7983e6f97e6c"
      },
      "outputs": [
        {
          "name": "stdout",
          "output_type": "stream",
          "text": [
            "Original dataset had millions of rows.\n",
            "After filtering, our new dataset has 4320541 rows and 88 columns.\n",
            "\n",
            "Distribution of traffic types in the new dataset:\n",
            "Label\n",
            "Syn       4284751\n",
            "BENIGN      35790\n",
            "Name: count, dtype: int64\n"
          ]
        }
      ],
      "source": [
        "file_path = '/home/shlok/Documents/DDoS-Final-Year-Project/Machine Learning/dataset/Syn.csv'\n",
        "#read the data in chunks to avoid memory errors\n",
        "chunk_size = 100000\n",
        "chunks = []\n",
        "# Create an iterator to read the CSV in chunks\n",
        "csv_iterator = pd.read_csv(file_path, chunksize=chunk_size, low_memory=False)\n",
        "for chunk in csv_iterator:\n",
        "    # Strip whitespace from column names\n",
        "    chunk.columns = chunk.columns.str.strip()\n",
        "    filtered_chunk = chunk[chunk['Label'].isin(['BENIGN', 'Syn'])]\n",
        "    chunks.append(filtered_chunk)\n",
        "# Concatenate all the filtered chunks into a single DataFrame\n",
        "df = pd.concat(chunks, ignore_index=True)\n",
        "print(f\"Original dataset had millions of rows.\")\n",
        "print(f\"After filtering, our new dataset has {df.shape[0]} rows and {df.shape[1]} columns.\")\n",
        "print(\"\\nDistribution of traffic types in the new dataset:\")\n",
        "print(df['Label'].value_counts())"
      ]
    },
    {
      "cell_type": "code",
      "execution_count": 6,
      "metadata": {
        "colab": {
          "base_uri": "https://localhost:8080/",
          "height": 359
        },
        "id": "9g7GyLSgM815",
        "outputId": "0753f305-4d2e-4bee-dc4d-898086f6fc49"
      },
      "outputs": [
        {
          "name": "stdout",
          "output_type": "stream",
          "text": [
            "DataFrame shape after selecting columns: (4320541, 21)\n",
            "\n",
            "First 5 rows of the final dataset:\n"
          ]
        },
        {
          "data": {
            "text/html": [
              "<div>\n",
              "<style scoped>\n",
              "    .dataframe tbody tr th:only-of-type {\n",
              "        vertical-align: middle;\n",
              "    }\n",
              "\n",
              "    .dataframe tbody tr th {\n",
              "        vertical-align: top;\n",
              "    }\n",
              "\n",
              "    .dataframe thead th {\n",
              "        text-align: right;\n",
              "    }\n",
              "</style>\n",
              "<table border=\"1\" class=\"dataframe\">\n",
              "  <thead>\n",
              "    <tr style=\"text-align: right;\">\n",
              "      <th></th>\n",
              "      <th>Source Port</th>\n",
              "      <th>Destination Port</th>\n",
              "      <th>Protocol</th>\n",
              "      <th>Flow Duration</th>\n",
              "      <th>Total Fwd Packets</th>\n",
              "      <th>Total Backward Packets</th>\n",
              "      <th>Fwd Packet Length Mean</th>\n",
              "      <th>Fwd Packet Length Std</th>\n",
              "      <th>Flow Packets/s</th>\n",
              "      <th>Flow IAT Mean</th>\n",
              "      <th>...</th>\n",
              "      <th>Fwd IAT Mean</th>\n",
              "      <th>Min Packet Length</th>\n",
              "      <th>Max Packet Length</th>\n",
              "      <th>Avg Fwd Segment Size</th>\n",
              "      <th>SYN Flag Count</th>\n",
              "      <th>ACK Flag Count</th>\n",
              "      <th>PSH Flag Count</th>\n",
              "      <th>RST Flag Count</th>\n",
              "      <th>FIN Flag Count</th>\n",
              "      <th>Label</th>\n",
              "    </tr>\n",
              "  </thead>\n",
              "  <tbody>\n",
              "    <tr>\n",
              "      <th>0</th>\n",
              "      <td>9429</td>\n",
              "      <td>9429</td>\n",
              "      <td>6</td>\n",
              "      <td>36063894</td>\n",
              "      <td>7</td>\n",
              "      <td>2</td>\n",
              "      <td>6.0</td>\n",
              "      <td>0.0</td>\n",
              "      <td>2.495571e-01</td>\n",
              "      <td>4.507987e+06</td>\n",
              "      <td>...</td>\n",
              "      <td>6.010649e+06</td>\n",
              "      <td>6.0</td>\n",
              "      <td>6.0</td>\n",
              "      <td>6.0</td>\n",
              "      <td>0</td>\n",
              "      <td>1</td>\n",
              "      <td>0</td>\n",
              "      <td>0</td>\n",
              "      <td>0</td>\n",
              "      <td>Syn</td>\n",
              "    </tr>\n",
              "    <tr>\n",
              "      <th>1</th>\n",
              "      <td>60224</td>\n",
              "      <td>60224</td>\n",
              "      <td>6</td>\n",
              "      <td>44851366</td>\n",
              "      <td>8</td>\n",
              "      <td>4</td>\n",
              "      <td>6.0</td>\n",
              "      <td>0.0</td>\n",
              "      <td>2.675504e-01</td>\n",
              "      <td>4.077397e+06</td>\n",
              "      <td>...</td>\n",
              "      <td>6.407331e+06</td>\n",
              "      <td>6.0</td>\n",
              "      <td>6.0</td>\n",
              "      <td>6.0</td>\n",
              "      <td>0</td>\n",
              "      <td>1</td>\n",
              "      <td>0</td>\n",
              "      <td>0</td>\n",
              "      <td>0</td>\n",
              "      <td>Syn</td>\n",
              "    </tr>\n",
              "    <tr>\n",
              "      <th>2</th>\n",
              "      <td>11746</td>\n",
              "      <td>33827</td>\n",
              "      <td>6</td>\n",
              "      <td>1</td>\n",
              "      <td>2</td>\n",
              "      <td>0</td>\n",
              "      <td>6.0</td>\n",
              "      <td>0.0</td>\n",
              "      <td>2.000000e+06</td>\n",
              "      <td>1.000000e+00</td>\n",
              "      <td>...</td>\n",
              "      <td>1.000000e+00</td>\n",
              "      <td>6.0</td>\n",
              "      <td>6.0</td>\n",
              "      <td>6.0</td>\n",
              "      <td>1</td>\n",
              "      <td>0</td>\n",
              "      <td>0</td>\n",
              "      <td>0</td>\n",
              "      <td>0</td>\n",
              "      <td>Syn</td>\n",
              "    </tr>\n",
              "    <tr>\n",
              "      <th>3</th>\n",
              "      <td>33828</td>\n",
              "      <td>1431</td>\n",
              "      <td>6</td>\n",
              "      <td>0</td>\n",
              "      <td>2</td>\n",
              "      <td>0</td>\n",
              "      <td>6.0</td>\n",
              "      <td>0.0</td>\n",
              "      <td>inf</td>\n",
              "      <td>0.000000e+00</td>\n",
              "      <td>...</td>\n",
              "      <td>0.000000e+00</td>\n",
              "      <td>6.0</td>\n",
              "      <td>6.0</td>\n",
              "      <td>6.0</td>\n",
              "      <td>0</td>\n",
              "      <td>1</td>\n",
              "      <td>0</td>\n",
              "      <td>0</td>\n",
              "      <td>0</td>\n",
              "      <td>Syn</td>\n",
              "    </tr>\n",
              "    <tr>\n",
              "      <th>4</th>\n",
              "      <td>5311</td>\n",
              "      <td>5311</td>\n",
              "      <td>6</td>\n",
              "      <td>35731470</td>\n",
              "      <td>8</td>\n",
              "      <td>2</td>\n",
              "      <td>6.0</td>\n",
              "      <td>0.0</td>\n",
              "      <td>2.798653e-01</td>\n",
              "      <td>3.970163e+06</td>\n",
              "      <td>...</td>\n",
              "      <td>5.104496e+06</td>\n",
              "      <td>6.0</td>\n",
              "      <td>6.0</td>\n",
              "      <td>6.0</td>\n",
              "      <td>0</td>\n",
              "      <td>1</td>\n",
              "      <td>0</td>\n",
              "      <td>0</td>\n",
              "      <td>0</td>\n",
              "      <td>Syn</td>\n",
              "    </tr>\n",
              "  </tbody>\n",
              "</table>\n",
              "<p>5 rows × 21 columns</p>\n",
              "</div>"
            ],
            "text/plain": [
              "   Source Port  Destination Port  Protocol  Flow Duration  Total Fwd Packets  \\\n",
              "0         9429              9429         6       36063894                  7   \n",
              "1        60224             60224         6       44851366                  8   \n",
              "2        11746             33827         6              1                  2   \n",
              "3        33828              1431         6              0                  2   \n",
              "4         5311              5311         6       35731470                  8   \n",
              "\n",
              "   Total Backward Packets  Fwd Packet Length Mean  Fwd Packet Length Std  \\\n",
              "0                       2                     6.0                    0.0   \n",
              "1                       4                     6.0                    0.0   \n",
              "2                       0                     6.0                    0.0   \n",
              "3                       0                     6.0                    0.0   \n",
              "4                       2                     6.0                    0.0   \n",
              "\n",
              "   Flow Packets/s  Flow IAT Mean  ...  Fwd IAT Mean  Min Packet Length  \\\n",
              "0    2.495571e-01   4.507987e+06  ...  6.010649e+06                6.0   \n",
              "1    2.675504e-01   4.077397e+06  ...  6.407331e+06                6.0   \n",
              "2    2.000000e+06   1.000000e+00  ...  1.000000e+00                6.0   \n",
              "3             inf   0.000000e+00  ...  0.000000e+00                6.0   \n",
              "4    2.798653e-01   3.970163e+06  ...  5.104496e+06                6.0   \n",
              "\n",
              "   Max Packet Length  Avg Fwd Segment Size  SYN Flag Count  ACK Flag Count  \\\n",
              "0                6.0                   6.0               0               1   \n",
              "1                6.0                   6.0               0               1   \n",
              "2                6.0                   6.0               1               0   \n",
              "3                6.0                   6.0               0               1   \n",
              "4                6.0                   6.0               0               1   \n",
              "\n",
              "   PSH Flag Count  RST Flag Count  FIN Flag Count  Label  \n",
              "0               0               0               0    Syn  \n",
              "1               0               0               0    Syn  \n",
              "2               0               0               0    Syn  \n",
              "3               0               0               0    Syn  \n",
              "4               0               0               0    Syn  \n",
              "\n",
              "[5 rows x 21 columns]"
            ]
          },
          "execution_count": 6,
          "metadata": {},
          "output_type": "execute_result"
        }
      ],
      "source": [
        "# List of columns to keep for the model\n",
        "selected_columns = [\n",
        "    'Source Port', 'Destination Port', 'Protocol', 'Flow Duration',\n",
        "    'Total Fwd Packets', 'Total Backward Packets', 'Fwd Packet Length Mean',\n",
        "    'Fwd Packet Length Std', 'Flow Packets/s', 'Flow IAT Mean', 'Flow IAT Min',\n",
        "    'Fwd IAT Mean', 'Min Packet Length', 'Max Packet Length', 'Avg Fwd Segment Size',\n",
        "    'SYN Flag Count', 'ACK Flag Count', 'PSH Flag Count', 'RST Flag Count', 'FIN Flag Count',\n",
        "    'Label'\n",
        "]\n",
        "# Create a new DataFrame with only the selected columns\n",
        "df_selected = df[selected_columns].copy()\n",
        "print(f\"DataFrame shape after selecting columns: {df_selected.shape}\")\n",
        "print(\"\\nFirst 5 rows of the final dataset:\")\n",
        "df_selected.head()"
      ]
    },
    {
      "cell_type": "code",
      "execution_count": 7,
      "metadata": {
        "colab": {
          "base_uri": "https://localhost:8080/"
        },
        "id": "Pt8BzoW3NMwA",
        "outputId": "13e43438-846a-4d0b-dd0e-285c1a79c1ea"
      },
      "outputs": [
        {
          "name": "stdout",
          "output_type": "stream",
          "text": [
            "Shape after dropping NaN/infinite values: (4037465, 21)\n"
          ]
        }
      ],
      "source": [
        "# Check for and handle infinite or missing values\n",
        "# Replace infinite values with NaN (Not a Number)\n",
        "df_selected.replace([np.inf, -np.inf], np.nan, inplace=True)\n",
        "# Drop any rows that have NaN values\n",
        "df_selected.dropna(inplace=True)\n",
        "print(f\"Shape after dropping NaN/infinite values: {df_selected.shape}\")"
      ]
    },
    {
      "cell_type": "code",
      "execution_count": 8,
      "metadata": {
        "id": "1HL3n_35N0mb"
      },
      "outputs": [],
      "source": [
        "#Separate features (X) and the target variable (y)\n",
        "X = df_selected.drop('Label', axis=1)\n",
        "y = df_selected['Label']\n",
        "\n",
        "#Encode the target variable 'y' into numbers (0 for BENIGN, 1 for Syn)\n",
        "label_encoder = LabelEncoder()\n",
        "y_encoded = label_encoder.fit_transform(y)"
      ]
    },
    {
      "cell_type": "code",
      "execution_count": 1,
      "metadata": {
        "colab": {
          "base_uri": "https://localhost:8080/"
        },
        "id": "nbIbczZNN5L0",
        "outputId": "d9f96bb8-129e-4979-c1e8-00839440901a"
      },
      "outputs": [
        {
          "ename": "NameError",
          "evalue": "name 'train_test_split' is not defined",
          "output_type": "error",
          "traceback": [
            "\u001b[31m---------------------------------------------------------------------------\u001b[39m",
            "\u001b[31mNameError\u001b[39m                                 Traceback (most recent call last)",
            "\u001b[36mCell\u001b[39m\u001b[36m \u001b[39m\u001b[32mIn[1]\u001b[39m\u001b[32m, line 2\u001b[39m\n\u001b[32m      1\u001b[39m \u001b[38;5;66;03m# We use stratify=y_encoded to ensure both train and test sets have a similar proportion of attack vs benign traffic.\u001b[39;00m\n\u001b[32m----> \u001b[39m\u001b[32m2\u001b[39m X_train, X_test, y_train, y_test = \u001b[43mtrain_test_split\u001b[49m(X, y_encoded, test_size=\u001b[32m0.2\u001b[39m, random_state=\u001b[32m42\u001b[39m, stratify=y_encoded)\n\u001b[32m      3\u001b[39m \u001b[38;5;28mprint\u001b[39m(\u001b[33mf\u001b[39m\u001b[33m\"\u001b[39m\u001b[38;5;130;01m\\n\u001b[39;00m\u001b[33mTraining set has \u001b[39m\u001b[38;5;132;01m{\u001b[39;00mX_train.shape[\u001b[32m0\u001b[39m]\u001b[38;5;132;01m}\u001b[39;00m\u001b[33m samples.\u001b[39m\u001b[33m\"\u001b[39m)\n\u001b[32m      4\u001b[39m \u001b[38;5;28mprint\u001b[39m(\u001b[33mf\u001b[39m\u001b[33m\"\u001b[39m\u001b[33mTesting set has \u001b[39m\u001b[38;5;132;01m{\u001b[39;00mX_test.shape[\u001b[32m0\u001b[39m]\u001b[38;5;132;01m}\u001b[39;00m\u001b[33m samples.\u001b[39m\u001b[33m\"\u001b[39m)\n",
            "\u001b[31mNameError\u001b[39m: name 'train_test_split' is not defined"
          ]
        }
      ],
      "source": [
        "# We use stratify=y_encoded to ensure both train and test sets have a similar proportion of attack vs benign traffic.\n",
        "X_train, X_test, y_train, y_test = train_test_split(X, y_encoded, test_size=0.2, random_state=42, stratify=y_encoded)\n",
        "print(f\"\\nTraining set has {X_train.shape[0]} samples.\")\n",
        "print(f\"Testing set has {X_test.shape[0]} samples.\")\n",
        "\n",
        "#This standardises the data to have a mean of 0 and a standard deviation of 1.\n",
        "scaler = StandardScaler()\n",
        "X_train_scaled = scaler.fit_transform(X_train)\n",
        "X_test_scaled = scaler.transform(X_test)"
      ]
    },
    {
      "cell_type": "code",
      "execution_count": null,
      "metadata": {
        "colab": {
          "base_uri": "https://localhost:8080/"
        },
        "id": "kMOOCLRpOHfa",
        "outputId": "ec85422d-5c2e-4fd4-a383-3ccdabd59bc6"
      },
      "outputs": [
        {
          "name": "stdout",
          "output_type": "stream",
          "text": [
            "Training the Random Forest model...\n"
          ]
        }
      ],
      "source": [
        "# Train the Random Forest model\n",
        "print(\"Training the Random Forest model...\")\n",
        "# n_jobs=-1 uses all available CPU cores to speed up training\n",
        "rf_model = RandomForestClassifier(n_estimators=100, random_state=42, n_jobs=-1)\n",
        "rf_model.fit(X_train_scaled, y_train)\n",
        "print(\"Model training complete!\")\n",
        "#Make predictions on the test set\n",
        "y_pred = rf_model.predict(X_test_scaled)"
      ]
    },
    {
      "cell_type": "code",
      "execution_count": null,
      "metadata": {
        "colab": {
          "base_uri": "https://localhost:8080/"
        },
        "id": "MuTZ_ctDOPYP",
        "outputId": "be693397-790c-4180-a472-450fcec98325"
      },
      "outputs": [],
      "source": [
        "#Evaluation of the model\n",
        "accuracy = accuracy_score(y_test, y_pred)\n",
        "precision = precision_score(y_test, y_pred)\n",
        "recall = recall_score(y_test, y_pred)\n",
        "f1 = f1_score(y_test, y_pred)\n",
        "\n",
        "print(\"\\n --- Model Evaluation ---\")\n",
        "print(f\"Accuracy: {accuracy:.4f}\")\n",
        "print(f\"Precision: {precision:.4f}\")\n",
        "print(f\"Recall: {recall:.4f}\")\n",
        "print(f\"F1-Score: {f1:.4f}\")"
      ]
    },
    {
      "cell_type": "code",
      "execution_count": null,
      "metadata": {
        "colab": {
          "base_uri": "https://localhost:8080/"
        },
        "id": "Ug5f9jBdOS1c",
        "outputId": "f68afc1b-1a83-446e-9952-f93ad3131adb"
      },
      "outputs": [],
      "source": [
        "#Display the detailed classification report\n",
        "print(\"\\nClassification Report:\")\n",
        "print(classification_report(y_test, y_pred, target_names=['BENIGN (0)', 'Syn (1)']))"
      ]
    },
    {
      "cell_type": "code",
      "execution_count": null,
      "metadata": {
        "colab": {
          "base_uri": "https://localhost:8080/",
          "height": 599
        },
        "id": "LmbJ_FGEOUdc",
        "outputId": "185be93a-42a6-469d-8a60-87c85567df31"
      },
      "outputs": [],
      "source": [
        "#Visualise the Confusion Matrix\n",
        "print(\"\\nConfusion Matrix:\")\n",
        "cm = confusion_matrix(y_test, y_pred)\n",
        "plt.figure(figsize=(8, 6))\n",
        "sns.heatmap(cm, annot=True, fmt='d', cmap='Blues',\n",
        "            xticklabels=['BENIGN', 'Syn'], yticklabels=['BENIGN', 'Syn'])\n",
        "plt.xlabel('Predicted Label')\n",
        "plt.ylabel('True Label')\n",
        "plt.title('Confusion Matrix')\n",
        "plt.show()"
      ]
    },
    {
      "cell_type": "markdown",
      "metadata": {
        "id": "nvBYFgHTVTFU"
      },
      "source": [
        "# **TESTING VARIATIONS**"
      ]
    },
    {
      "cell_type": "code",
      "execution_count": null,
      "metadata": {
        "id": "QMKnoSObOf1m"
      },
      "outputs": [],
      "source": [
        "# Separate features (X) and target (y)\n",
        "X = df_selected.drop('Label', axis=1)\n",
        "y = df_selected['Label']\n",
        "# Encode the target variable\n",
        "label_encoder = LabelEncoder()\n",
        "y_encoded = label_encoder.fit_transform(y)"
      ]
    },
    {
      "cell_type": "code",
      "execution_count": null,
      "metadata": {
        "colab": {
          "base_uri": "https://localhost:8080/"
        },
        "id": "BZTv9o_qcdRh",
        "outputId": "5974656d-ac17-413c-a092-01d98ce5b57e"
      },
      "outputs": [],
      "source": [
        "# The test set will be our imbalanced, realistic \"hold-out\" set\n",
        "X_train, X_test, y_train, y_test = train_test_split(X, y_encoded, test_size=0.2, random_state=42, stratify=y_encoded)\n",
        "print(\"--- Before Balancing ---\")\n",
        "print(f\"Training set shape: {X_train.shape}\")\n",
        "print(f\"Distribution in training set:\\n{pd.Series(y_train).value_counts()}\")"
      ]
    },
    {
      "cell_type": "code",
      "execution_count": null,
      "metadata": {
        "colab": {
          "base_uri": "https://localhost:8080/"
        },
        "id": "Ub0ivljzcr7f",
        "outputId": "79680868-429e-486c-dc4c-1d110a474e67"
      },
      "outputs": [],
      "source": [
        "# This will reduce the number of majority class ('Syn') samples to match the minority class ('BENIGN')\n",
        "rus = RandomUnderSampler(random_state=42)\n",
        "X_train_balanced, y_train_balanced = rus.fit_resample(X_train, y_train)\n",
        "print(\"\\n--- After Balancing ---\")\n",
        "print(f\"New balanced training set shape: {X_train_balanced.shape}\")\n",
        "print(f\"New distribution in training set:\\n{pd.Series(y_train_balanced).value_counts()}\")"
      ]
    },
    {
      "cell_type": "code",
      "execution_count": null,
      "metadata": {
        "id": "XZf2Fnfwc1dM"
      },
      "outputs": [],
      "source": [
        "# We fit the scaler ONLY on the training data to prevent data leakage from the test set\n",
        "scaler = StandardScaler()\n",
        "X_train_scaled = scaler.fit_transform(X_train_balanced)\n",
        "X_test_scaled = scaler.transform(X_test)"
      ]
    },
    {
      "cell_type": "code",
      "execution_count": null,
      "metadata": {
        "colab": {
          "base_uri": "https://localhost:8080/"
        },
        "id": "-LFemBozUPKp",
        "outputId": "a0aba9f3-38b7-43de-d17f-30f0ea2f82cf"
      },
      "outputs": [],
      "source": [
        "# Train the model on the BALANCED data\n",
        "print(\"Training the Random Forest model on BALANCED data...\")\n",
        "rf_model = RandomForestClassifier(n_estimators=100, random_state=42, n_jobs=-1)\n",
        "rf_model.fit(X_train_scaled, y_train_balanced)\n",
        "print(\"Model training complete!\")\n",
        "\n",
        "# Make predictions on the original, IMBALANCED test set\n",
        "y_pred = rf_model.predict(X_test_scaled)"
      ]
    },
    {
      "cell_type": "code",
      "execution_count": null,
      "metadata": {
        "colab": {
          "base_uri": "https://localhost:8080/"
        },
        "id": "W7BwJZPwdKLW",
        "outputId": "47e93a1e-4261-4e21-b8a8-326a92c75159"
      },
      "outputs": [],
      "source": [
        "# A more critical evaluation of the results\n",
        "print(\"\\n--- Model Evaluation on Realistic (Imbalanced) Test Data ---\")\n",
        "print(\"\\nClassification Report:\")\n",
        "print(classification_report(y_test, y_pred, target_names=['BENIGN (0)', 'Syn (1)']))\n",
        "print(\"\\n--- MENTOR'S ANALYSIS ---\")\n",
        "print(\"Notice the difference now. The overall accuracy might be slightly lower, but look at the 'BENIGN' row.\")\n",
        "print(\"Our goal was to improve the RECALL for the 'BENIGN' class, reducing the number of False Positives.\")"
      ]
    },
    {
      "cell_type": "code",
      "execution_count": null,
      "metadata": {
        "colab": {
          "base_uri": "https://localhost:8080/",
          "height": 668
        },
        "id": "p4VLLCSzdDkW",
        "outputId": "30e2661a-c24f-4108-9aa5-dbd9c91aedfb"
      },
      "outputs": [],
      "source": [
        "# Visualise the new Confusion Matrix\n",
        "print(\"\\nConfusion Matrix:\")\n",
        "cm = confusion_matrix(y_test, y_pred)\n",
        "plt.figure(figsize=(8, 6))\n",
        "sns.heatmap(cm, annot=True, fmt='d', cmap='Greens',\n",
        "            xticklabels=['BENIGN', 'Syn'], yticklabels=['BENIGN', 'Syn'])\n",
        "plt.xlabel('Predicted Label')\n",
        "plt.ylabel('True Label')\n",
        "plt.title('Confusion Matrix on Realistic Test Data')\n",
        "plt.show()\n",
        "\n",
        "# Extracting the False Positive count for emphasis\n",
        "false_positives = cm[0][1]\n",
        "print(f\"\\nCRITICAL METRIC: The model misclassified {false_positives} BENIGN samples as attacks (False Positives).\")\n",
        "print(\"This is the number we want to minimize. Our previous model had a higher error rate for this specific case.\")\n",
        "print(\"By training on balanced data, the model has learned to better distinguish benign traffic, making it more reliable for real-world deployment.\")"
      ]
    },
    {
      "cell_type": "markdown",
      "metadata": {
        "id": "lVsIAjjEaDsm"
      },
      "source": [
        "# **POLISHING VARIATIONS**"
      ]
    },
    {
      "cell_type": "code",
      "execution_count": null,
      "metadata": {
        "colab": {
          "base_uri": "https://localhost:8080/"
        },
        "id": "M7adAo7haHU3",
        "outputId": "fbc6d7ae-8a29-4f18-edf9-e7764a653d92"
      },
      "outputs": [],
      "source": [
        "\"\"\"\n",
        "The previous code for loading, splitting, and balancing the training data is the same. We'll start from the point where the model is already trained. Let's assume 'rf_model' is our trained model and 'X_test_scaled' is our test data. Get the predicted probabilities for the positive class ('Syn') predict_proba returns two columns: [prob_of_0, prob_of_1]. We only need the probabilities for class 1 ('Syn').\n",
        "\"\"\"\n",
        "y_pred_probs = rf_model.predict_proba(X_test_scaled)[:, 1]\n",
        "print(\"Successfully retrieved prediction probabilities for each sample in the test set.\")"
      ]
    },
    {
      "cell_type": "code",
      "execution_count": null,
      "metadata": {
        "colab": {
          "base_uri": "https://localhost:8080/"
        },
        "id": "nKc1UOgKaJoM",
        "outputId": "b315803e-0be5-4d0b-b3ab-7432867e74a1"
      },
      "outputs": [],
      "source": [
        "# Calculate precision, recall, and thresholds\n",
        "precision, recall, thresholds = precision_recall_curve(y_test, y_pred_probs)\n",
        "# We add a small epsilon to avoid division by zero\n",
        "f1_scores = 2 * (precision * recall) / (precision + recall + 1e-9)\n",
        "\n",
        "# Find the threshold that gives the best F1 score\n",
        "best_f1_index = np.argmax(f1_scores)\n",
        "best_threshold = thresholds[best_f1_index]\n",
        "best_f1_score = f1_scores[best_f1_index]\n",
        "\n",
        "print(f\"Best F1-Score: {best_f1_score:.4f}\")\n",
        "print(f\"Optimal Threshold: {best_threshold:.4f}\")"
      ]
    },
    {
      "cell_type": "code",
      "execution_count": null,
      "metadata": {
        "colab": {
          "base_uri": "https://localhost:8080/",
          "height": 641
        },
        "id": "fzj9z4aBeiGh",
        "outputId": "c03f65ec-1f2f-4770-de66-4e51c7092bdb"
      },
      "outputs": [],
      "source": [
        "# Plotting the curve\n",
        "plt.figure(figsize=(10, 7))\n",
        "plt.plot(thresholds, precision[:-1], 'b--', label='Precision')\n",
        "plt.plot(thresholds, recall[:-1], 'g-', label='Recall')\n",
        "plt.plot(thresholds, f1_scores[:-1], 'r-', lw=2, label='F1-Score')\n",
        "plt.axvline(x=best_threshold, color='k', linestyle='--', label=f'Optimal Threshold ({best_threshold:.2f})')\n",
        "plt.xlabel('Decision Threshold')\n",
        "plt.ylabel('Score')\n",
        "plt.title('Precision, Recall, and F1-Score vs. Decision Threshold')\n",
        "plt.legend(loc='best')\n",
        "plt.grid(True)\n",
        "plt.show()"
      ]
    },
    {
      "cell_type": "code",
      "execution_count": null,
      "metadata": {
        "colab": {
          "base_uri": "https://localhost:8080/"
        },
        "id": "H1UvyZBKaMjq",
        "outputId": "d2f8d988-1904-4410-c838-61aba792b6d2"
      },
      "outputs": [],
      "source": [
        "# Apply the optimal threshold to get the new predictions\n",
        "y_pred_optimal = (y_pred_probs >= best_threshold).astype(int)\n",
        "print(f\"--- Final Model Evaluation with Optimal Threshold ({best_threshold:.4f}) ---\")"
      ]
    },
    {
      "cell_type": "code",
      "execution_count": null,
      "metadata": {
        "colab": {
          "base_uri": "https://localhost:8080/"
        },
        "id": "bb07CZoGetrg",
        "outputId": "74f27113-c441-4b03-f87c-10d1edf8fbd7"
      },
      "outputs": [],
      "source": [
        "print(\"\\nNew Classification Report:\")\n",
        "print(classification_report(y_test, y_pred_optimal, target_names=['BENIGN (0)', 'Syn (1)']))\n",
        "\n",
        "print(\"\\n--- MENTOR'S FINAL ANALYSIS ---\")\n",
        "print(\"This is the balanced result we were looking for. We've accepted a tiny, calculated risk\")\n",
        "print(\"to build a much more reliable and practical security model.\")"
      ]
    },
    {
      "cell_type": "code",
      "execution_count": null,
      "metadata": {
        "colab": {
          "base_uri": "https://localhost:8080/",
          "height": 599
        },
        "id": "9avO9_teeu0w",
        "outputId": "f4037153-e85a-45b2-935a-52b5658b6fc1"
      },
      "outputs": [],
      "source": [
        "# Visualise the final Confusion Matrix\n",
        "print(\"\\nFinal Confusion Matrix:\")\n",
        "cm = confusion_matrix(y_test, y_pred_optimal)\n",
        "plt.figure(figsize=(8, 6))\n",
        "sns.heatmap(cm, annot=True, fmt='d', cmap='YlOrRd',\n",
        "            xticklabels=['BENIGN', 'Syn'], yticklabels=['BENIGN', 'Syn'])\n",
        "plt.xlabel('Predicted Label')\n",
        "plt.ylabel('True Label')\n",
        "plt.title('Final Confusion Matrix with Optimal Threshold')\n",
        "plt.show()\n",
        "\n",
        "false_positives = cm[0][1]\n",
        "false_negatives = cm[1][0]"
      ]
    },
    {
      "cell_type": "code",
      "execution_count": null,
      "metadata": {
        "colab": {
          "base_uri": "https://localhost:8080/"
        },
        "id": "_CmzQ28AezCI",
        "outputId": "b550b1c8-0241-476c-a47f-16480a0dcfb6"
      },
      "outputs": [],
      "source": [
        "print(f\"\\nFinal Error Count:\")\n",
        "print(f\"Benign traffic blocked (False Positives): {false_positives}\")\n",
        "print(f\"Attack traffic missed (False Negatives): {false_negatives}\")"
      ]
    }
  ],
  "metadata": {
    "colab": {
      "provenance": []
    },
    "kernelspec": {
      "display_name": "ddos_env (3.12.3)",
      "language": "python",
      "name": "python3"
    },
    "language_info": {
      "codemirror_mode": {
        "name": "ipython",
        "version": 3
      },
      "file_extension": ".py",
      "mimetype": "text/x-python",
      "name": "python",
      "nbconvert_exporter": "python",
      "pygments_lexer": "ipython3",
      "version": "3.12.3"
    }
  },
  "nbformat": 4,
  "nbformat_minor": 0
}
